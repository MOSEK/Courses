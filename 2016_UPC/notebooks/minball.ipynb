{
 "cells": [
  {
   "cell_type": "markdown",
   "metadata": {},
   "source": [
    "# Minimum ball example - 3 different implementations in Python using MOSEK Fusion"
   ]
  },
  {
   "cell_type": "markdown",
   "metadata": {
    "collapsed": true
   },
   "source": [
    "The problem:\n",
    "$$\n",
    "\\begin{array}{lcl}\n",
    "\\mbox{minimize} & r                                    & \\\\\n",
    "\\mbox{st}       & \\left( \\begin{array}{c}\n",
    "                      r       \\\\\n",
    "                      p^i -x  \\\\\n",
    "                   \\end{array} \\right ) \\in \\mathcal{K}_q, \\forall i  & \\\\\n",
    "\\end{array}\n",
    "$$\n"
   ]
  },
  {
   "cell_type": "markdown",
   "metadata": {},
   "source": [
    "# Version 1 - the simple one\n",
    "\n",
    "A straightforward implementation"
   ]
  },
  {
   "cell_type": "code",
   "execution_count": 1,
   "metadata": {
    "collapsed": false
   },
   "outputs": [
    {
     "name": "stdout",
     "output_type": "stream",
     "text": [
      "Radius: 2.592944e+00\n",
      "\n"
     ]
    }
   ],
   "source": [
    "import random\n",
    "import sys\n",
    "import mosek\n",
    "\n",
    "from mosek.fusion import *\n",
    "\n",
    "random.seed(278) # Makes the script deterministic\n",
    "\n",
    "d = 2     # Dimmension     \n",
    "n = 100   # Number of points\n",
    "\n",
    "# Generate the points\n",
    "p =  [ [random.gauss(0.,1.) for dd in range(d)] for nn in range(n)]\n",
    "\n",
    "# p[i]: Is the i'th point i.e. it is stored rowwise\n",
    "   \n",
    "with Model(\"minimal ball enclosing a set of points - primal\") as M:\n",
    "\n",
    "    # M.setLogHandler(sys.stdout)  # Make sure we get some output\n",
    "\n",
    "    r = M.variable(\"r\", 1, Domain.unbounded())\n",
    "    x = M.variable(\"x\", d, Domain.unbounded())\n",
    "\n",
    "    for i in range(n):\n",
    "        M.constraint(Expr.vstack(r, Expr.sub(p[i],x)), Domain.inQCone())\n",
    "\n",
    "    M.objective(ObjectiveSense.Minimize, r)\n",
    "    \n",
    "    M.solve()\n",
    "    \n",
    "    print('Radius: %e\\n' % r.level()[0])    "
   ]
  },
  {
   "cell_type": "markdown",
   "metadata": {},
   "source": [
    "# A plotting function based on matplotlib\n",
    "\n",
    "Create a plotting function for plotting purposes"
   ]
  },
  {
   "cell_type": "code",
   "execution_count": 2,
   "metadata": {
    "collapsed": true
   },
   "outputs": [],
   "source": [
    "%matplotlib inline\n",
    "import matplotlib.pyplot as plt\n",
    "import matplotlib.patches as mpatches\n",
    "\n",
    "def plot_points(p, p0=[], r0=0.):\n",
    "    n,k= len(p0), len(p)\n",
    "    \n",
    "    plt.rc('savefig',dpi=120)\n",
    "\n",
    "    fig, ax = plt.subplots()\n",
    "    ax.set_aspect('equal')\n",
    "    ax.plot([ p[i][0] for i in range(k)], [ p[i][1] for i in range(k)], 'b*')\n",
    "    \n",
    "    if len(p0)>0:\n",
    "        ax.plot(  p0[0],p0[1], 'r.')\n",
    "        ax.add_patch( mpatches.Circle( p0,  r0 ,  fc=\"w\", ec=\"r\", lw=1.5) )\n",
    "    plt.grid()\n",
    "    plt.show()\n",
    "    "
   ]
  },
  {
   "cell_type": "markdown",
   "metadata": {},
   "source": [
    "# Version 2 - using outer product"
   ]
  },
  {
   "cell_type": "markdown",
   "metadata": {},
   "source": [
    "In Fusion when we say\n",
    "$$\n",
    "A(x) \\in \\mathcal{K}_q\n",
    "$$\n",
    "where $A(x)$ is a 2 dimensional expression then that means each row much be a quadratic cone. \n",
    "\n",
    "Recall the i'th row of p is the i'th point.\n",
    "\n",
    "Therefore, the constraint corresponds to each row of\n",
    "$$\n",
    "[e r,p - e x^T] = \n",
    "\\left [\n",
    "    \\left [ \\begin{array}{c} \n",
    "                r \\\\\n",
    "                r \\\\\n",
    "                \\vdots \\\\\n",
    "            \\end{array} \n",
    "    \\right ], \n",
    "    p^T - \\left [ \\begin{array}{c} \n",
    "                    1 \\\\\n",
    "                    1 \\\\\n",
    "                    \\vdots \\\\\n",
    "                \\end{array} \n",
    "        \\right ]\n",
    "        \\left [ \\begin{array}{c} \n",
    "                    x_1 \\\\\n",
    "                    x_2 \\\\\n",
    "                    \\vdots \\\\\n",
    "                \\end{array} \\right ]^T\n",
    "\\right ]\n",
    "= \\left [\n",
    "\\begin{array}{ccc}\n",
    "r      & p_{11} - x_ 1 & p_{12} - x_2 \\\\\n",
    "r      & p_{21} - x_1  & p_{22} - x_2 \\\\  \n",
    "\\vdots & \\vdots        & \\vdots       \\\\  \n",
    "\\end{array}\n",
    "\\right ]\n",
    "$$\n",
    "must be in a quadratic cone. e is the vector of all ones."
   ]
  },
  {
   "cell_type": "code",
   "execution_count": 3,
   "metadata": {
    "collapsed": false
   },
   "outputs": [
    {
     "name": "stdout",
     "output_type": "stream",
     "text": [
      "Radius: 2.592944e+00\n",
      "\n"
     ]
    },
    {
     "data": {
      "image/png": "[encoded data removed]",
      "text/plain": [
       "<matplotlib.figure.Figure at 0x74016a0>"
      ]
     },
     "metadata": {},
     "output_type": "display_data"
    }
   ],
   "source": [
    "with Model(\"minimal ball enclosing a set of points - primal\") as M:\n",
    "\n",
    "    # M.setLogHandler(sys.stdout)  # Make sure we get some output\n",
    "\n",
    "    r = M.variable(\"r\", 1, Domain.unbounded())\n",
    "    x = M.variable(\"x\", d, Domain.unbounded())\n",
    "    \n",
    "    e = [1]*n # Python structure\n",
    "\n",
    "    # Each row of  [e*r,p-ex'] in a quadratic\n",
    "    M.constraint(Expr.hstack(Expr.outer(e,r), Expr.sub(p, Expr.outer(e,x))), Domain.inQCone())\n",
    "\n",
    "    M.objective(ObjectiveSense.Minimize, r)\n",
    "    \n",
    "    M.solve()\n",
    "\n",
    "    print('Radius: %e\\n' % r.level()[0])\n",
    "\n",
    "    plot_points(p,x.level(),r.level())\n",
    "    "
   ]
  },
  {
   "cell_type": "markdown",
   "metadata": {},
   "source": [
    "# Version 3 - Using repeat"
   ]
  },
  {
   "cell_type": "markdown",
   "metadata": {},
   "source": [
    "Same idea as in version 2 but using the repeat operator"
   ]
  },
  {
   "cell_type": "code",
   "execution_count": 4,
   "metadata": {
    "collapsed": false
   },
   "outputs": [
    {
     "name": "stdout",
     "output_type": "stream",
     "text": [
      "Radius: 2.592944e+00\n",
      "\n"
     ]
    }
   ],
   "source": [
    "with Model(\"minimal ball enclosing a set of points - primal\") as M:\n",
    "\n",
    "    r = M.variable(\"r\", 1, Domain.unbounded())\n",
    "    x = M.variable(\"x\", d, Domain.unbounded())\n",
    "\n",
    "    # Each row of  [e*r,p-ex'] in a quadratic cone\n",
    "    M.constraint(Expr.hstack(Var.repeat(r,n),Expr.sub(p,Var.repeat(x.transpose(),0,n))), Domain.inQCone())\n",
    "\n",
    "    M.objective(ObjectiveSense.Minimize, r)\n",
    "    \n",
    "    M.solve()\n",
    "\n",
    "    print('Radius: %e\\n' % r.level()[0])"
   ]
  },
  {
   "cell_type": "markdown",
   "metadata": {},
   "source": [
    "# Timing and numpy\n",
    "\n",
    "Let us see how we can time a function. Also let us numpy.\n",
    "\n",
    "numpy is a base N-dimensional array package. See http://scipy.org."
   ]
  },
  {
   "cell_type": "code",
   "execution_count": 5,
   "metadata": {
    "collapsed": false
   },
   "outputs": [
    {
     "name": "stdout",
     "output_type": "stream",
     "text": [
      "Solve time: 0.312000\n",
      "Total time: 4.009000\n",
      "Radius: 3.902840e+00\n",
      "\n"
     ]
    }
   ],
   "source": [
    "import time\n",
    "import numpy\n",
    "\n",
    "d = 2      # Dimmension     \n",
    "n = 10000  # Number of points\n",
    "\n",
    "numpy.random.seed(379)\n",
    "\n",
    "p = numpy.random.standard_normal(size=(n,d))\n",
    "\n",
    "with Model(\"minimal ball enclosing a set of points - primal\") as M:\n",
    "    \n",
    "    before = time.monotonic()\n",
    "\n",
    "    r      = M.variable(\"r\", 1, Domain.unbounded())\n",
    "    x      = M.variable(\"x\", d, Domain.unbounded())\n",
    "\n",
    "    # Each row of  [e*r,p-ex'] in a quadratic cone\n",
    "    M.constraint(Expr.hstack(Var.repeat(r,n),Expr.sub(p,Var.repeat(x.transpose(),0,n))), Domain.inQCone())\n",
    "\n",
    "    M.objective(ObjectiveSense.Minimize, r)\n",
    "    \n",
    "    s = time.monotonic() \n",
    "    M.solve()\n",
    "    print('Solve time: %f' % (time.monotonic()-s))\n",
    "    print('Total time: %f' % (time.monotonic()-before))\n",
    "    \n",
    "    print('Radius: %e\\n' % r.level()[0])"
   ]
  },
  {
   "cell_type": "markdown",
   "metadata": {
    "collapsed": true
   },
   "source": [
    "Conclusion: Python can be a bit sluggish. Use one of the other Fusion interfaces instead if that is an issue."
   ]
  }
 ],
 "metadata": {
  "kernelspec": {
   "display_name": "Python 2",
   "language": "python",
   "name": "python2"
  },
  "language_info": {
   "codemirror_mode": {
    "name": "ipython",
    "version": 2
   },
   "file_extension": ".py",
   "mimetype": "text/x-python",
   "name": "python",
   "nbconvert_exporter": "python",
   "pygments_lexer": "ipython2",
   "version": "2.7.11"
  }
 },
 "nbformat": 4,
 "nbformat_minor": 0
}
