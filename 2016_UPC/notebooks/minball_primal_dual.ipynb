{
 "cells": [
  {
   "cell_type": "markdown",
   "metadata": {},
   "source": [
    "# The primal problem\n",
    "\n",
    "The primal problem\n",
    "$$\n",
    "\\begin{array}{lcl}\n",
    "\\mbox{maximize}    & \\hat r                                    & \\\\\n",
    "\\mbox{st}          & \\left( \\begin{array}{c}\n",
    "                                0       \\\\\n",
    "                                p^i    \\\\\n",
    "                            \\end{array} \\right )\n",
    "                            - I \\left( \\begin{array}{c}\n",
    "                                           \\hat r    \\\\\n",
    "                                           x         \\\\ \n",
    "                                       \\end{array} \\right ) \\in \\mathcal{K}_q,  & \\forall i.\\\\\n",
    "\\end{array}\n",
    "$$"
   ]
  },
  {
   "cell_type": "code",
   "execution_count": 27,
   "metadata": {
    "collapsed": false
   },
   "outputs": [
    {
     "name": "stdout",
     "output_type": "stream",
     "text": [
      "Radius: 1.074058e+00\n",
      "Primal objective value: -1.074058e+00 Dual objective value: -1.074058e+00\n",
      "x:\n",
      "[ 0.48762009 -0.24860626]\n"
     ]
    }
   ],
   "source": [
    "import random\n",
    "import sys\n",
    "import timeit\n",
    "import mosek\n",
    "\n",
    "from mosek.fusion import *\n",
    "\n",
    "random.seed(278) # Makes the script deterministic\n",
    "\n",
    "d = 2      # Dimmension     \n",
    "n = 3  # Number of points\n",
    "\n",
    "# Generate the points\n",
    "p = [[random.gauss(0.,1.) for dd in range(d)] for nn in range(n)]\n",
    "\n",
    "def buildprimalandsolve():\n",
    "    with Model(\"minimal ball enclosing a set of points - primal formulation\") as P:\n",
    "\n",
    "        hatr = P.variable(\"hatr\", 1, Domain.unbounded())\n",
    "        x    = P.variable(\"x\",    d, Domain.unbounded())\n",
    "\n",
    "        # e = Matrix.ones(n,1) # Create a vector of all ones\n",
    "        e      = [1]*n \n",
    "        minuse = [-1]*n\n",
    "\n",
    "        # Each row of  [-e*hatr,p-e*x'] in a quadratic cone\n",
    "        P.constraint(Expr.hstack(Expr.outer(minuse,hatr), Expr.sub(p, Expr.outer(e,x))), Domain.inQCone())\n",
    "        \n",
    "        P.objective(ObjectiveSense.Maximize,hatr)\n",
    "        \n",
    "        P.solve()\n",
    "        \n",
    "        print('Radius: %e' % -hatr.level()[0])\n",
    "        print('Primal objective value: %e Dual objective value: %e' % (P.primalObjValue(),P.dualObjValue()))\n",
    "        print('x:',)\n",
    "        print(x.level())\n",
    "\n",
    "        \n",
    "buildprimalandsolve()"
   ]
  },
  {
   "cell_type": "markdown",
   "metadata": {},
   "source": [
    "# The dual problem\n",
    "\n",
    "The dual problem is\n",
    "$$\n",
    "\\begin{array}{lccl}\n",
    "\\mbox{minimize} &  \\sum_i \\left [ \\begin{array}{c} 0 \\\\ p^i \\end{array} \\right ]^T y^i & \\\\\n",
    "\\mbox{st}       &  \\sum_i y^i           & = & \\left( \\begin{array}{c}\n",
    "                                                1       \\\\\n",
    "                                                0     \\\\\n",
    "                                           \\end{array} \\right ) \\\\\n",
    "                & y^i                  & \\in \\mathcal{K}_q, & \\forall i.\\\\                                   \n",
    "\\end{array}\n",
    "$$"
   ]
  },
  {
   "cell_type": "code",
   "execution_count": 28,
   "metadata": {
    "collapsed": false
   },
   "outputs": [
    {
     "name": "stdout",
     "output_type": "stream",
     "text": [
      "Primal objective value: -1.074058e+00 Dual objective value: -1.074058e+00\n",
      "Duals on constraints:\n",
      "[-1.07405828  0.48762008 -0.24860626]\n"
     ]
    }
   ],
   "source": [
    "def buildualandsolve():\n",
    "    with Model(\"minimal ball enclosing a set of points - dual formulation\") as D:\n",
    "\n",
    "        # Transposed y\n",
    "        yt    = D.variable(\"yt\", NDSet(n, 1+d), Domain.inQCone())\n",
    "\n",
    "        e    = [1.0]*n\n",
    "        b    = [0.0]*(1+d) \n",
    "        b[0] = 1.0    \n",
    "\n",
    "        c    = D.constraint(Expr.sub(Expr.mul(yt.transpose(),e),b), Domain.equalsTo(0.0))\n",
    "        \n",
    "        D.objective(ObjectiveSense.Minimize,Expr.dot(Matrix.dense(p),yt.slice([0, 1],[n, 1+d]))) \n",
    "    \n",
    "        D.solve()\n",
    " \n",
    "        print('Primal objective value: %e Dual objective value: %e' % (D.primalObjValue(),D.dualObjValue()))\n",
    "        print('Duals on constraints:',)\n",
    "        print(c.dual())\n",
    "\n",
    "        \n",
    "buildualandsolve()\n",
    "    "
   ]
  },
  {
   "cell_type": "markdown",
   "metadata": {},
   "source": [
    "Dot product between two matrices is\n",
    "$$\n",
    "\\begin{array}{rcl}\n",
    "\\mbox{dot}(A,B) & = & <A,B> \\\\\n",
    "                & = & A^T B \\\\\n",
    "                & = & \\sum_i \\sum_j A_{ij} B_{ij}.\n",
    "\\end{array}      \n",
    "$$\n",
    "Is exploited in the objective."
   ]
  }
 ],
 "metadata": {
  "kernelspec": {
   "display_name": "Python 3",
   "language": "python",
   "name": "python3"
  },
  "language_info": {
   "codemirror_mode": {
    "name": "ipython",
    "version": 3
   },
   "file_extension": ".py",
   "mimetype": "text/x-python",
   "name": "python",
   "nbconvert_exporter": "python",
   "pygments_lexer": "ipython3",
   "version": "3.5.1"
  }
 },
 "nbformat": 4,
 "nbformat_minor": 0
}
